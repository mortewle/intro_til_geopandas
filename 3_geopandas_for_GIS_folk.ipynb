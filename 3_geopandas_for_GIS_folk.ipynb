{
 "cells": [
  {
   "attachments": {},
   "cell_type": "markdown",
   "id": "3439657f",
   "metadata": {},
   "source": [
    "## Intro til geopandas for GIS-folk"
   ]
  },
  {
   "cell_type": "markdown",
   "id": "87822731",
   "metadata": {},
   "source": [
    "Åpne heller notebook-en her:\n",
    "\n",
    "https://nbviewer.org/github/statisticsnorway/intro_til_geopandas/blob/main/3_geopandas_for_GIS_folk.ipynb"
   ]
  },
  {
   "attachments": {},
   "cell_type": "markdown",
   "id": "5faed6fa",
   "metadata": {},
   "source": [
    "Notebook-en er todelt:\n",
    "- første halvdel: pandas/Python\n",
    "- andre halvdel: geopandas/GIS"
   ]
  },
  {
   "attachments": {},
   "cell_type": "markdown",
   "id": "a247f856",
   "metadata": {},
   "source": [
    "* [Dissolve](#first-bullet)"
   ]
  },
  {
   "attachments": {},
   "cell_type": "markdown",
   "id": "23df3a47",
   "metadata": {},
   "source": [
    "### Aller først: hva er geopandas?\n",
    "\n",
    "Geopandas er en python-pakke ala arcpy og pyqgis.\n",
    "\n",
    "GIS-biten er basert på de samme algoritmene som i QGIS, POSTGIS osv. (fra GEOS, GDAL og PROJ).\n",
    "\n",
    "Det som ikke har med GIS å gjøre er basert på pakken pandas.\n",
    "\n",
    "Første del av denne notebooken handler mest om pandas. Andre del om geopandas."
   ]
  },
  {
   "attachments": {},
   "cell_type": "markdown",
   "id": "09b4aefc",
   "metadata": {},
   "source": [
    "### Så hvordan fungerer pandas (og Python)?"
   ]
  },
  {
   "attachments": {},
   "cell_type": "markdown",
   "id": "efb5caff",
   "metadata": {},
   "source": [
    "#### Tall:"
   ]
  },
  {
   "cell_type": "code",
   "execution_count": null,
   "id": "be078601",
   "metadata": {},
   "outputs": [],
   "source": [
    "tall = 6\n",
    "tall"
   ]
  },
  {
   "attachments": {},
   "cell_type": "markdown",
   "id": "3a28ba38",
   "metadata": {},
   "source": [
    "#### Tekst:"
   ]
  },
  {
   "cell_type": "code",
   "execution_count": null,
   "id": "57becbb1",
   "metadata": {},
   "outputs": [],
   "source": [
    "tekst = \"0301\"\n",
    "tekst"
   ]
  },
  {
   "attachments": {},
   "cell_type": "markdown",
   "id": "13b96a94",
   "metadata": {},
   "source": [
    "#### Liste\n",
    "Lister som inneholder tall eller tekst. Eller andre ting (alt er lov å putte inni lister)"
   ]
  },
  {
   "cell_type": "code",
   "execution_count": null,
   "id": "78710764",
   "metadata": {},
   "outputs": [],
   "source": [
    "liste = [tekst, \"3401\", \"3401\", \"0301\", \"3401\"]\n",
    "liste"
   ]
  },
  {
   "cell_type": "code",
   "execution_count": null,
   "id": "93ea21f0",
   "metadata": {},
   "outputs": [],
   "source": [
    "liste2 = [tall, 3, 8, 24, 11]\n",
    "liste2"
   ]
  },
  {
   "attachments": {},
   "cell_type": "markdown",
   "id": "a7785374",
   "metadata": {},
   "source": [
    "#### tuple:\n",
    "Nesten som lister, men litt mindre fleksible fordi de ikke kan endres på (men de tar mindre plass i minnet)"
   ]
  },
  {
   "cell_type": "code",
   "execution_count": null,
   "id": "3e429092",
   "metadata": {},
   "outputs": [],
   "source": [
    "tuple1 = (tall, 3, 8, 24, 11)\n",
    "tuple1"
   ]
  },
  {
   "attachments": {},
   "cell_type": "markdown",
   "id": "3da56fa6",
   "metadata": {},
   "source": [
    "#### Ordbok (dictionary)\n",
    "\n",
    "De består av nøkkel-verdi-par (key-value pairs)\n",
    "- verdier, som kan være hva som helst, for eksempel en liste\n",
    "- nøkler som er knyttet til verdiene"
   ]
  },
  {
   "cell_type": "code",
   "execution_count": null,
   "id": "90601fc9",
   "metadata": {},
   "outputs": [],
   "source": [
    "verdier = [1,2,3]\n",
    "ordbok = {\"nøkkel\": verdier}\n",
    "ordbok"
   ]
  },
  {
   "cell_type": "code",
   "execution_count": null,
   "id": "ea51c04c",
   "metadata": {},
   "outputs": [],
   "source": [
    "ordbok = {\"KOMMUNENR\": liste, \"tall\": liste2}\n",
    "ordbok"
   ]
  },
  {
   "cell_type": "code",
   "execution_count": null,
   "id": "70385647",
   "metadata": {},
   "outputs": [],
   "source": [
    "ordbok[\"KOMMUNENR\"]"
   ]
  },
  {
   "cell_type": "code",
   "execution_count": null,
   "id": "48e40181",
   "metadata": {},
   "outputs": [],
   "source": [
    "ordbok[\"tall\"]"
   ]
  },
  {
   "attachments": {},
   "cell_type": "markdown",
   "id": "1dcc7e29",
   "metadata": {},
   "source": [
    "Dette er de viktigste innebygde objekttypene i Python.\n",
    "\n",
    "En Pandas DataFrame er en litt mer fancy objekttype, men den er basert på blant annet de innebygde Python-typene.\n",
    "\n",
    "Hver objekttype i Python har spesifikke metoder/funksjoner knyttet til seg. Syntaxen er gjerne sånn her:\n",
    "\n",
    "objekt.metode()\n",
    "\n",
    "For eksempel har tekst-typen (string) metoder som lower og zfill:"
   ]
  },
  {
   "cell_type": "code",
   "execution_count": null,
   "id": "ac666bcd",
   "metadata": {
    "tags": []
   },
   "outputs": [],
   "source": [
    "tekst = \"KOMMUNENR\"\n",
    "tekst.lower() # til små bokstaver"
   ]
  },
  {
   "cell_type": "code",
   "execution_count": null,
   "id": "cd8dd92e",
   "metadata": {},
   "outputs": [],
   "source": [
    "tekst = \"301\"\n",
    "tekst.zfill(4)  #fyller på med ledende 0 hvis færre enn fire bokstaver"
   ]
  },
  {
   "attachments": {},
   "cell_type": "markdown",
   "id": "f8bea973",
   "metadata": {},
   "source": [
    "Lister har egne metoder:"
   ]
  },
  {
   "cell_type": "code",
   "execution_count": null,
   "id": "5ab7351a",
   "metadata": {},
   "outputs": [],
   "source": [
    "liste = [1, 2, 3]\n",
    "liste.remove(2) # fjerner verdien 2 fra lista (fjerner bare én hvis flere 2-ere)\n",
    "liste.reverse() # snur lista\n",
    "liste"
   ]
  },
  {
   "attachments": {},
   "cell_type": "markdown",
   "id": "95a463f5",
   "metadata": {},
   "source": [
    "### pandas"
   ]
  },
  {
   "cell_type": "code",
   "execution_count": null,
   "id": "ab35a31f",
   "metadata": {},
   "outputs": [],
   "source": [
    "import pandas as pd"
   ]
  },
  {
   "attachments": {},
   "cell_type": "markdown",
   "id": "1c0bb10e",
   "metadata": {},
   "source": [
    "En pandas.DataFrame er en slags ordbok bestående av nøkler (kolonnenavn) og verdier (kolonneverdier):"
   ]
  },
  {
   "cell_type": "code",
   "execution_count": null,
   "id": "8c310e4c",
   "metadata": {},
   "outputs": [],
   "source": [
    "pd.DataFrame(ordbok)"
   ]
  },
  {
   "cell_type": "markdown",
   "id": "4cc18219",
   "metadata": {},
   "source": [
    "Altså:"
   ]
  },
  {
   "cell_type": "code",
   "execution_count": null,
   "id": "c13fcaad",
   "metadata": {},
   "outputs": [],
   "source": [
    "df = pd.DataFrame({\n",
    "    \"KOMMUNENR\": ['0301', \"3401\", \"3401\", \"0301\", \"3401\"],\n",
    "    \"tall\": [6, 3, 8, 24, 11]\n",
    "})\n",
    "df"
   ]
  },
  {
   "attachments": {},
   "cell_type": "markdown",
   "id": "58d2fbec",
   "metadata": {},
   "source": [
    "DataFramen har egne metoder knyttet til seg, for eksempel:"
   ]
  },
  {
   "cell_type": "code",
   "execution_count": null,
   "id": "4f8f377f",
   "metadata": {},
   "outputs": [],
   "source": [
    "df.drop_duplicates(\"KOMMUNENR\") # beholder første verdi for hvert kommunenummer"
   ]
  },
  {
   "cell_type": "code",
   "execution_count": null,
   "id": "12a0dc7a",
   "metadata": {},
   "outputs": [],
   "source": [
    "df.groupby(\"KOMMUNENR\").sum() # summerer for hvert unike kommunenummer"
   ]
  },
  {
   "attachments": {},
   "cell_type": "markdown",
   "id": "32aa83d9",
   "metadata": {},
   "source": [
    "Mer om det under.\n",
    "\n",
    "Man refererer til en kolonne på samme måte som nøklene i en ordbok:"
   ]
  },
  {
   "cell_type": "code",
   "execution_count": null,
   "id": "03f2cf37",
   "metadata": {},
   "outputs": [],
   "source": [
    "ordbok[\"tall\"]"
   ]
  },
  {
   "cell_type": "code",
   "execution_count": null,
   "id": "54607d81",
   "metadata": {},
   "outputs": [],
   "source": [
    "df[\"tall\"]"
   ]
  },
  {
   "attachments": {},
   "cell_type": "markdown",
   "id": "e89afd20",
   "metadata": {},
   "source": [
    "Man kan endre hver rad i kolonnen direkte (trenger ingen field calculator):"
   ]
  },
  {
   "cell_type": "code",
   "execution_count": null,
   "id": "4709afb6",
   "metadata": {},
   "outputs": [],
   "source": [
    "df[\"tall\"] + 100"
   ]
  },
  {
   "attachments": {},
   "cell_type": "markdown",
   "id": "779ca345",
   "metadata": {},
   "source": [
    "For å lagre det som en ny kolonne:"
   ]
  },
  {
   "cell_type": "code",
   "execution_count": null,
   "id": "07a81ce0",
   "metadata": {},
   "outputs": [],
   "source": [
    "df[\"tall_pluss_100\"] = df[\"tall\"] + 100\n",
    "df"
   ]
  },
  {
   "attachments": {},
   "cell_type": "markdown",
   "id": "ef8cba8d",
   "metadata": {},
   "source": [
    "Man kan også referere til kolonner med punktum (det funker riktignok ikke å lage en ny kolonne på denne måten):"
   ]
  },
  {
   "cell_type": "code",
   "execution_count": null,
   "id": "b0b3c6dc",
   "metadata": {},
   "outputs": [],
   "source": [
    "df.tall"
   ]
  },
  {
   "attachments": {},
   "cell_type": "markdown",
   "id": "3d29724f",
   "metadata": {},
   "source": [
    "### geopandas\n",
    "Samme regler gjelder for geopandas."
   ]
  },
  {
   "cell_type": "code",
   "execution_count": null,
   "id": "da61915d",
   "metadata": {},
   "outputs": [],
   "source": [
    "import geopandas as gpd"
   ]
  },
  {
   "attachments": {},
   "cell_type": "markdown",
   "id": "4a378331",
   "metadata": {},
   "source": [
    "I geopandas starter man med å lese inn dataene sine som en GeoDataFrame.\n",
    "\n",
    "For eksempel vegdata for Oslo:"
   ]
  },
  {
   "cell_type": "code",
   "execution_count": null,
   "id": "d531f0ae",
   "metadata": {},
   "outputs": [],
   "source": [
    "veger = gpd.read_file(\"C:/users/ort/namibia/roads_oslo_2020.gpkg\")\n",
    "veger"
   ]
  },
  {
   "attachments": {},
   "cell_type": "markdown",
   "id": "4271b63b",
   "metadata": {},
   "source": [
    "Legg merke til kolonnen \"geometry\". Den forteller at vi har linjegeometrier, og koordinatene ser ut til å være i utm-format.\n",
    "\n",
    "Det stemmer:"
   ]
  },
  {
   "cell_type": "code",
   "execution_count": null,
   "id": "98d2e5c2",
   "metadata": {},
   "outputs": [],
   "source": [
    "veger.crs"
   ]
  },
  {
   "attachments": {},
   "cell_type": "markdown",
   "id": "e80509bc",
   "metadata": {},
   "source": [
    "Når man leser filen, kan man også velge hvilke kolonner og rader man vil lese. \n",
    "\n",
    "Og fjerne Z-koordinater."
   ]
  },
  {
   "cell_type": "code",
   "execution_count": null,
   "id": "634c4b13",
   "metadata": {},
   "outputs": [],
   "source": [
    "import pyogrio\n",
    "noen_veger = gpd.read_file(\"C:/users/ort/namibia/roads_oslo_2020.gpkg\", engine = \"pyogrio\",\n",
    "                       \n",
    "                       columns = [\"speed_limit\", \"roadtype\"],\n",
    "                      \n",
    "                       where = \"speed_limit >= 80 and roadtype in ('R', 'E')\", # OBS: syntaxen er litt annerledes for lesing av geoparquet-filer\n",
    "                           \n",
    "                       force_2d = True,\n",
    "                     )\n",
    "\n",
    "print(noen_veger.speed_limit.value_counts())\n",
    "print(noen_veger.roadtype.value_counts())\n",
    "\n",
    "noen_veger.plot()\n",
    "noen_veger"
   ]
  },
  {
   "attachments": {},
   "cell_type": "markdown",
   "id": "8f206ab0",
   "metadata": {},
   "source": [
    "Man kan også lese kun et område, for eksempel 500 meter rundt SSB i Akersveien:"
   ]
  },
  {
   "cell_type": "code",
   "execution_count": null,
   "id": "4836ffea",
   "metadata": {
    "scrolled": false
   },
   "outputs": [],
   "source": [
    "from shapely.wkt import loads\n",
    "akersveien = gpd.GeoDataFrame({\"geometry\": gpd.GeoSeries(loads(\"POINT (10.7476913 59.9222196)\"))}, crs=4326).to_crs(25833)\n",
    "akersveien[\"geometry\"] = akersveien.buffer(500)\n",
    "\n",
    "veger = gpd.read_file(\"C:/users/ort/namibia/roads_oslo_2020.gpkg\", \n",
    "                      engine = \"pyogrio\",\n",
    "                      bbox = akersveien\n",
    "                     )\n",
    "veger.explore()"
   ]
  },
  {
   "cell_type": "markdown",
   "id": "b3cea4fd",
   "metadata": {},
   "source": [
    "Men nå vil jeg ha alle veger:"
   ]
  },
  {
   "cell_type": "code",
   "execution_count": null,
   "id": "5deeb33b",
   "metadata": {},
   "outputs": [],
   "source": [
    "veger = gpd.read_file(\"C:/users/ort/namibia/roads_oslo_2020.gpkg\")\n",
    "veger.plot()"
   ]
  },
  {
   "attachments": {},
   "cell_type": "markdown",
   "id": "eec07ca0",
   "metadata": {},
   "source": [
    "For å kartlegge, kan man bruke plot for statiske kart, og explore for interaktive. Det statiske kartet bruker en python-pakke for graflegging (matplotlib), derfor får man koordinatene i x- og y-aksene:"
   ]
  },
  {
   "cell_type": "code",
   "execution_count": null,
   "id": "20c813ba",
   "metadata": {},
   "outputs": [],
   "source": [
    "veger.plot(\"traffic_per_day\", scheme=\"NaturalBreaks\")"
   ]
  },
  {
   "attachments": {},
   "cell_type": "markdown",
   "id": "c3a57fa0",
   "metadata": {},
   "source": [
    "Man kan også undersøke dataene grafisk:"
   ]
  },
  {
   "cell_type": "code",
   "execution_count": null,
   "id": "36e4fb0c",
   "metadata": {},
   "outputs": [],
   "source": [
    "veger[\"traffic_per_day\"].plot.hist()"
   ]
  },
  {
   "attachments": {},
   "cell_type": "markdown",
   "id": "71fc8429",
   "metadata": {},
   "source": [
    "Eller se på snitt, sum, median osv:"
   ]
  },
  {
   "cell_type": "code",
   "execution_count": null,
   "id": "fc1d49b7",
   "metadata": {},
   "outputs": [],
   "source": [
    "veger[\"traffic_per_day\"].describe()"
   ]
  },
  {
   "attachments": {},
   "cell_type": "markdown",
   "id": "7571db50",
   "metadata": {},
   "source": [
    "### Syntaksen i pandas og geopandas er som regel enten:\n",
    "\n",
    "- data.attributt\n",
    "\n",
    "- data.metode()\n",
    "\n",
    "- data.kolonne.attributt\n",
    "\n",
    "- data.kolonne.metode()\n",
    "\n",
    "En attributt inneholder informasjon om dataene.\n",
    "\n",
    "En metode innebærer å gjøre endringer i dataene. \n",
    "\n",
    "En geopandas.GeoDataFrame har alle attributter og metoder som tilhører pandas.DataFrame, og i tillegg en del GIS-attributter og -metoder.\n",
    "\n",
    "Her er noen (Geo)DataFrame-attributter:"
   ]
  },
  {
   "cell_type": "code",
   "execution_count": null,
   "id": "ca89759e",
   "metadata": {},
   "outputs": [],
   "source": [
    "veger.columns # liste over kolonnene"
   ]
  },
  {
   "cell_type": "code",
   "execution_count": null,
   "id": "55180415",
   "metadata": {},
   "outputs": [],
   "source": [
    "veger.shape # antall rader og kolonner"
   ]
  },
  {
   "cell_type": "code",
   "execution_count": null,
   "id": "f4611342",
   "metadata": {},
   "outputs": [],
   "source": [
    "veger.crs # koordinatsystemet"
   ]
  },
  {
   "cell_type": "code",
   "execution_count": null,
   "id": "b82744a2",
   "metadata": {},
   "outputs": [],
   "source": [
    "veger.traffic_per_day # kolonnene regnes også som attributter"
   ]
  },
  {
   "cell_type": "code",
   "execution_count": null,
   "id": "50cdbec8",
   "metadata": {},
   "outputs": [],
   "source": [
    "veger.area # = Shape_Area"
   ]
  },
  {
   "cell_type": "code",
   "execution_count": null,
   "id": "587d1387",
   "metadata": {},
   "outputs": [],
   "source": [
    "veger.length # = Shape_Leng"
   ]
  },
  {
   "attachments": {},
   "cell_type": "markdown",
   "id": "797b506c",
   "metadata": {},
   "source": [
    "Man kan gjøre matte direkte på kolonner og area/length-attributtene:"
   ]
  },
  {
   "cell_type": "code",
   "execution_count": null,
   "id": "b42dcb58",
   "metadata": {},
   "outputs": [],
   "source": [
    "veger[\"traffic_per_km\"] = veger.traffic_per_day / (veger.length / 1000)\n",
    "veger.head()"
   ]
  },
  {
   "attachments": {},
   "cell_type": "markdown",
   "id": "a4ecfa71",
   "metadata": {},
   "source": [
    "Med tekstkolonner kan man bruke pandas sin str-attributt, som gjør at man kan bruke metoder som tilhører Pythons innebygde string-type (altså tekst), og noen metoder til."
   ]
  },
  {
   "cell_type": "code",
   "execution_count": null,
   "id": "67ec4e84",
   "metadata": {},
   "outputs": [],
   "source": [
    "veger[\"FYLKE\"] = veger.municipality.str[:2] # velg ut to første tegnene\n",
    "veger[\"roadtype\"] = veger.roadtype.str.lower() # små bokstaver\n",
    "veger[\"municipality\"] = veger.municipality.str.zfill(4) # legg til ledende 0 i 3-sifrede kommunenumre\n",
    "veger.head()"
   ]
  },
  {
   "attachments": {},
   "cell_type": "markdown",
   "id": "492b2a8a",
   "metadata": {},
   "source": [
    "Her gjøre man altså dette for hver rad i kolonnen:"
   ]
  },
  {
   "cell_type": "code",
   "execution_count": null,
   "id": "0e121ba4",
   "metadata": {},
   "outputs": [],
   "source": [
    "\"0301\"[:2] # velg ut to første tegnene"
   ]
  },
  {
   "cell_type": "code",
   "execution_count": null,
   "id": "5e345be7",
   "metadata": {},
   "outputs": [],
   "source": [
    "\"K\".lower() # små bokstaver"
   ]
  },
  {
   "cell_type": "code",
   "execution_count": null,
   "id": "47551fa3",
   "metadata": {},
   "outputs": [],
   "source": [
    "\"0301\".zfill(4) # legg til ledende 0 i 3-sifrede kommunenumre"
   ]
  },
  {
   "attachments": {},
   "cell_type": "markdown",
   "id": "fed91665",
   "metadata": {},
   "source": [
    "GIS-funksjoner er metoder som tilhører geodataframen. Så man skriver gjerne:\n",
    "\n",
    "data.gisfunksjon()"
   ]
  },
  {
   "cell_type": "code",
   "execution_count": null,
   "id": "83657f59",
   "metadata": {},
   "outputs": [],
   "source": [
    "veger.buffer(10)"
   ]
  },
  {
   "cell_type": "code",
   "execution_count": null,
   "id": "38397285",
   "metadata": {},
   "outputs": [],
   "source": [
    "veger.dissolve(by=\"roadtype\", aggfunc=\"sum\") # med by='roadtype' holder man vegkategoriene adskilt, og man får summen av de andre kolonnene for hver vegkategori"
   ]
  },
  {
   "attachments": {},
   "cell_type": "markdown",
   "id": "faebaead",
   "metadata": {},
   "source": [
    "geopandas.dissolve er basert på pandas groupby + agg. Denne gjør samme grupperte oppsummering, men samler ikke geometrien:"
   ]
  },
  {
   "cell_type": "code",
   "execution_count": null,
   "id": "41c9d784",
   "metadata": {},
   "outputs": [],
   "source": [
    "veger.groupby(\"roadtype\").sum(numeric_only = True)"
   ]
  },
  {
   "attachments": {},
   "cell_type": "markdown",
   "id": "424f9398",
   "metadata": {},
   "source": [
    "Hvis man vil ha ulike aggregeringsmetoder:"
   ]
  },
  {
   "cell_type": "code",
   "execution_count": null,
   "id": "c7d5a7d3",
   "metadata": {},
   "outputs": [],
   "source": [
    "summary_statistics = veger.groupby(\"roadtype\").agg(\n",
    "    \n",
    "    traffic_per_day_sum = ('traffic_per_day','sum'), # kolonnenavn og aggregeringsmetode i tuple, altså med vanlig parentes, adskilt med komma\n",
    "    \n",
    "    speed_limit_mean = ('speed_limit','mean'),\n",
    "    \n",
    "    municipality = ('municipality','first')\n",
    "\n",
    ")\n",
    "summary_statistics"
   ]
  },
  {
   "cell_type": "markdown",
   "id": "8481a4ac",
   "metadata": {},
   "source": [
    "## Velg kolonner"
   ]
  },
  {
   "cell_type": "code",
   "execution_count": null,
   "id": "b149e10a",
   "metadata": {},
   "outputs": [],
   "source": [
    "kolonner_du_vil_beholde = [\"traffic_per_day\", \"traffic_per_km\", \"geometry\"]\n",
    "\n",
    "veger2 = veger[kolonner_du_vil_beholde]\n",
    "\n",
    "veger2.head()"
   ]
  },
  {
   "cell_type": "markdown",
   "id": "4b49921e",
   "metadata": {},
   "source": [
    "Samme som over, men på én linje:"
   ]
  },
  {
   "cell_type": "code",
   "execution_count": null,
   "id": "a9d3e5df",
   "metadata": {},
   "outputs": [],
   "source": [
    "veger2 = veger[[\"traffic_per_day\", \"traffic_per_km\", \"geometry\"]]\n",
    "veger2.head()"
   ]
  },
  {
   "cell_type": "markdown",
   "id": "bbbe019c",
   "metadata": {},
   "source": [
    "Man kan fjerne kolonner med drop():"
   ]
  },
  {
   "cell_type": "code",
   "execution_count": null,
   "id": "a12331b5",
   "metadata": {},
   "outputs": [],
   "source": [
    "veger2 = veger.drop([\"speed_limit\", \"tunnel\", \"bridge\", \"roadtype\", \"municipality\"], \n",
    "                    axis=1) # axis=1 betyr at man vil fjerne kolonner. axis=0 betyr rader\n",
    "veger2.head()"
   ]
  },
  {
   "attachments": {},
   "cell_type": "markdown",
   "id": "dabf95f2",
   "metadata": {},
   "source": [
    "## Velg rader\n",
    "Altså som select i arcpy.\n",
    "\n",
    "Sånn fjerner man rader med trafikk under 1000:"
   ]
  },
  {
   "cell_type": "code",
   "execution_count": null,
   "id": "f328dc21",
   "metadata": {},
   "outputs": [],
   "source": [
    "veger2 = veger.loc[veger.traffic_per_day > 1000]\n",
    "\n",
    "veger2.traffic_per_day.min()"
   ]
  },
  {
   "cell_type": "markdown",
   "id": "55c0c87d",
   "metadata": {},
   "source": [
    "Man spør Python om kolonneverdiene er større enn 1000"
   ]
  },
  {
   "cell_type": "code",
   "execution_count": null,
   "id": "490d4737",
   "metadata": {},
   "outputs": [],
   "source": [
    "2000 > 1000"
   ]
  },
  {
   "cell_type": "code",
   "execution_count": null,
   "id": "8c707ca9",
   "metadata": {},
   "outputs": [],
   "source": [
    "500 > 1000"
   ]
  },
  {
   "cell_type": "markdown",
   "id": "197b9910",
   "metadata": {},
   "source": [
    "Dette gjøres for hver rad:"
   ]
  },
  {
   "cell_type": "code",
   "execution_count": null,
   "id": "49179534",
   "metadata": {},
   "outputs": [],
   "source": [
    "veger.traffic_per_day > 1000"
   ]
  },
  {
   "cell_type": "markdown",
   "id": "b2e1dc0a",
   "metadata": {},
   "source": [
    "Og så velger man ut radene som er True"
   ]
  },
  {
   "cell_type": "code",
   "execution_count": null,
   "id": "b50c292c",
   "metadata": {},
   "outputs": [],
   "source": [
    "veger.loc[veger.traffic_per_day > 1000]"
   ]
  },
  {
   "attachments": {},
   "cell_type": "markdown",
   "id": "bbbdf730",
   "metadata": {},
   "source": [
    "Man kan også velge rader med pandas.query. Her trenger man bare å skrive kolonnenavnene (ikke tabellnavnet). Tar dermed mindre plass hvis man har mange kondisjoner:"
   ]
  },
  {
   "cell_type": "code",
   "execution_count": null,
   "id": "7a5b9e4e",
   "metadata": {},
   "outputs": [],
   "source": [
    "veger2 = veger.query(\"traffic_per_day > 1000 | roadtype == 'E' & tunnel == 0\")"
   ]
  },
  {
   "attachments": {},
   "cell_type": "markdown",
   "id": "46a21615",
   "metadata": {},
   "source": [
    "## Velg rader og kolonner samtidig"
   ]
  },
  {
   "attachments": {},
   "cell_type": "markdown",
   "id": "c7646b0e",
   "metadata": {},
   "source": [
    "Inni loc kan man velge først rader, så et komma, så kan man velge kolonner:"
   ]
  },
  {
   "cell_type": "code",
   "execution_count": null,
   "id": "557ee025",
   "metadata": {},
   "outputs": [],
   "source": [
    "veger2 = veger.loc[veger.traffic_per_day > 1000, [\"traffic_per_day\", \"traffic_per_km\", \"geometry\"]]\n",
    "veger2"
   ]
  },
  {
   "attachments": {},
   "cell_type": "markdown",
   "id": "df2d9b7d",
   "metadata": {},
   "source": [
    "Behold bare rader med trafikk over 1000 eller europaveger som ikke er tunneller.\n",
    "\n",
    "Og behold bare kolonner som inneholder ordene 'traffic'. Og behold geometri-kolonnen."
   ]
  },
  {
   "cell_type": "code",
   "execution_count": null,
   "id": "955f3d9a",
   "metadata": {},
   "outputs": [],
   "source": [
    "veger2 = veger.loc[(veger.traffic_per_day > 1000) | (veger.roadtype == 'E') & (veger.tunnel == 0),                    \n",
    "                   (veger.columns.str.contains('traffic')) | (veger.columns==\"geometry\")]\n",
    "veger2"
   ]
  },
  {
   "cell_type": "markdown",
   "id": "17c93a87",
   "metadata": {},
   "source": [
    "Fjern kolonner som inneholder ordene 'traffic' eller 'speed' (og behold alle rader):"
   ]
  },
  {
   "cell_type": "code",
   "execution_count": null,
   "id": "bd363054",
   "metadata": {},
   "outputs": [],
   "source": [
    "veger2 = veger.loc[:, ~veger.columns.str.contains('traffic|speed')]\n",
    "veger2"
   ]
  },
  {
   "attachments": {},
   "cell_type": "markdown",
   "id": "9729a24d",
   "metadata": {},
   "source": [
    "Hvis man plasserer loc-opplegget på motsatt side av likhetstegnet, kan man endre kolonneverdier for kun radene man velger.\n",
    "\n",
    "Her endrer man trafikk-kolonnen til 1000 for alle rader med trafikkmengde over 1000:"
   ]
  },
  {
   "cell_type": "code",
   "execution_count": null,
   "id": "d439b198",
   "metadata": {},
   "outputs": [],
   "source": [
    "veger2 = veger.copy() # kopi for å ikke ødelegge de opprinnelige dataene. Men man bør egentlig unngå å kopiere for mye, fordi man da bruker mer minne.\n",
    "\n",
    "veger2.loc[veger2.traffic_per_day > 1000, \"traffic_per_day\"] = 1000"
   ]
  },
  {
   "attachments": {},
   "cell_type": "markdown",
   "id": "00a22c3e",
   "metadata": {},
   "source": [
    "Nå har man ikke fjernet noen rader, men man har gitt alle de mest trafikkerte vegene (ÅDT>1000) en ÅDT på 1000:"
   ]
  },
  {
   "cell_type": "code",
   "execution_count": null,
   "id": "b61b3057",
   "metadata": {},
   "outputs": [],
   "source": [
    "veger2"
   ]
  },
  {
   "attachments": {},
   "cell_type": "markdown",
   "id": "41467f35",
   "metadata": {},
   "source": [
    "## Table join\n",
    "\n",
    "Hvis man bare trenger én eller få kolonner fra et annet datasett, er map effektivt og raskt. Man kan plassere (blant anent) en pandas-kolonne inni map:"
   ]
  },
  {
   "cell_type": "code",
   "execution_count": null,
   "id": "d796e4f2",
   "metadata": {},
   "outputs": [],
   "source": [
    "aggregert = veger.groupby('roadtype')['traffic_per_day'].mean()\n",
    "\n",
    "veger[\"traffic_roadtype_mean\"] = veger[\"roadtype\"].map(aggregert)\n",
    "\n",
    "veger"
   ]
  },
  {
   "attachments": {},
   "cell_type": "markdown",
   "id": "45414a37",
   "metadata": {},
   "source": [
    "Dette funker fordi man matcher verdiene i kolonnen veger.roadtype med index-en 'roadtype' i de aggregerte dataene. Dette gjøres for hver rad:"
   ]
  },
  {
   "cell_type": "code",
   "execution_count": null,
   "id": "63cace1e",
   "metadata": {},
   "outputs": [],
   "source": [
    "aggregert[\"k\"] # små bokstaver fordi jeg endra det lenger oppe"
   ]
  },
  {
   "cell_type": "code",
   "execution_count": null,
   "id": "d8808e01",
   "metadata": {},
   "outputs": [],
   "source": [
    "aggregert[\"r\"]"
   ]
  },
  {
   "attachments": {},
   "cell_type": "markdown",
   "id": "49ee6dc4",
   "metadata": {},
   "source": [
    "Man kan også gjenta dette for flere kolonner. Da venter man med å hente ut kolonnen til inni map:"
   ]
  },
  {
   "cell_type": "code",
   "execution_count": null,
   "id": "d92738a0",
   "metadata": {},
   "outputs": [],
   "source": [
    "aggregert = veger.groupby('roadtype').mean(numeric_only=True) # dette er nå en dataframe\n",
    "\n",
    "veger[\"traffic_roadtype_mean\"] = veger[\"roadtype\"].map(aggregert['traffic_per_day']) # henter ut en Series inni map\n",
    "veger[\"speed_roadtype_mean\"] = veger[\"roadtype\"].map(aggregert['speed_limit'])\n",
    "\n",
    "veger"
   ]
  },
  {
   "attachments": {},
   "cell_type": "markdown",
   "id": "2911d148",
   "metadata": {},
   "source": [
    "Joining av hele tabeller gjøres med pandas.merge (OBS: tilsvarer ikke arcpy.merge)\n",
    "\n",
    "La oss si vi vil ha kommunearealet som en kolonne i vegdataene våre. Henter først kommunedata."
   ]
  },
  {
   "cell_type": "code",
   "execution_count": null,
   "id": "255269e1",
   "metadata": {},
   "outputs": [],
   "source": [
    "kommuner = gpd.read_file(r\"C:\\Users\\ort\\OneDrive - Statistisk sentralbyrå\\data\\Basisdata_0000_Norge_25833_Kommuner_FGDB.gdb\", layer=\"kommune\", engine=\"pyogrio\",\n",
    "                        columns = [\"kommunenummer\", \"geometry\"],\n",
    "                        ).rename(columns={\"kommunenummer\":\"KOMMUNENR\"})\n",
    "kommuner[\"kommuneareal\"] = kommuner.area\n",
    "komm_areal = kommuner[[\"KOMMUNENR\", \"kommuneareal\"]]"
   ]
  },
  {
   "attachments": {},
   "cell_type": "markdown",
   "id": "af5a9677",
   "metadata": {},
   "source": [
    "Så kan det kobles:"
   ]
  },
  {
   "cell_type": "code",
   "execution_count": null,
   "id": "fc5537d8",
   "metadata": {},
   "outputs": [],
   "source": [
    "joinet = veger.merge(komm_areal, \n",
    "                     left_on = \"municipality\", \n",
    "                     right_on = \"KOMMUNENR\")\n",
    "joinet.head()"
   ]
  },
  {
   "attachments": {},
   "cell_type": "markdown",
   "id": "713d607c",
   "metadata": {},
   "source": [
    "Hvis join-kolonnene har samme navn i begge tabeller, bruker man parameteret 'on':"
   ]
  },
  {
   "cell_type": "code",
   "execution_count": null,
   "id": "20fa40db",
   "metadata": {},
   "outputs": [],
   "source": [
    "joinet = (veger\n",
    "          .rename(columns={\"municipality\":\"KOMMUNENR\"})\n",
    "          .merge(komm_areal, \n",
    "                 on = \"KOMMUNENR\")\n",
    "          )\n",
    "joinet.head()"
   ]
  },
  {
   "attachments": {},
   "cell_type": "markdown",
   "id": "5547aa44",
   "metadata": {},
   "source": [
    "Som default gjøres en inner join, som vil si at rader uten matchende verdier forsvinner.\n",
    "\n",
    "Man kan også gjøre blant annet left, right og outer join:"
   ]
  },
  {
   "cell_type": "code",
   "execution_count": null,
   "id": "7f19aea1",
   "metadata": {},
   "outputs": [],
   "source": [
    "for how in [\"inner\", \"left\", \"right\", \"outer\"]:\n",
    "    \n",
    "    joinet = veger.rename(columns={\"municipality\":\"KOMMUNENR\"}).merge(komm_areal, on = \"KOMMUNENR\",\n",
    "                    how = how) \n",
    "    \n",
    "    print(f\"antall rader {how}-join: {len(joinet)}\")"
   ]
  },
  {
   "attachments": {},
   "cell_type": "markdown",
   "id": "9b5fdeea",
   "metadata": {},
   "source": [
    "## pandas.concat\n",
    "\n",
    "Samler tabeller basert på kolonnenavn.\n",
    "\n",
    "Som merge i arcpy.\n",
    "\n",
    "La oss si kommunedataene er spredt i to tabeller:"
   ]
  },
  {
   "cell_type": "code",
   "execution_count": null,
   "id": "88862154",
   "metadata": {},
   "outputs": [],
   "source": [
    "tabell1 = kommuner.copy().loc[kommuner.KOMMUNENR.astype(int) < 3500] # tar her en kopi for å unngå advarselen om kopi kontra view. Vil nok ikke være nødvendig i framtiden.\n",
    "tabell2 = kommuner.copy().loc[kommuner.KOMMUNENR.astype(int) >= 3500]\n",
    "tabell1[\"fra_hvilken_tabell\"] = \"tabell1\"\n",
    "tabell2[\"fra_hvilken_tabell\"] = \"tabell2\"\n",
    "tabell2[\"kolonne_kun_i_tabell2\"] = 1 # her får man manglende verdier for radene fra tabell 1"
   ]
  },
  {
   "attachments": {},
   "cell_type": "markdown",
   "id": "ba758803",
   "metadata": {},
   "source": [
    "Da kan de samles sånn her:"
   ]
  },
  {
   "cell_type": "code",
   "execution_count": null,
   "id": "720467a1",
   "metadata": {},
   "outputs": [],
   "source": [
    "samlet = pd.concat([tabell1, tabell2], ignore_index=True)\n",
    "samlet"
   ]
  },
  {
   "cell_type": "markdown",
   "id": "81bc24c0",
   "metadata": {},
   "source": [
    "## Buffer\n",
    "geopandas.buffer returnerer bare geometrikolonnen:"
   ]
  },
  {
   "cell_type": "code",
   "execution_count": null,
   "id": "f7391279",
   "metadata": {},
   "outputs": [],
   "source": [
    "veger.buffer(500)"
   ]
  },
  {
   "attachments": {},
   "cell_type": "markdown",
   "id": "bebc2ae6",
   "metadata": {},
   "source": [
    "Oppløsningen på bufringen er også lavere enn i ArcGIS, har Erik oppdaget.\n",
    "\n",
    "For å beholde de andre kolonnene, ha høyere buffer-oppløsning, reparere geometri og ikke overskrive 'veger'-objektet, kan man gjøre dette:"
   ]
  },
  {
   "cell_type": "code",
   "execution_count": null,
   "id": "d8e69f4e",
   "metadata": {},
   "outputs": [],
   "source": [
    "veger_bufret = veger.copy()\n",
    "\n",
    "veger_bufret[\"geometry\"] = veger_bufret.buffer(500, resolution = 50)\n",
    "\n",
    "veger_bufret[\"geometry\"] = veger_bufret.make_valid()\n",
    "\n",
    "veger_bufret"
   ]
  },
  {
   "cell_type": "markdown",
   "id": "091d079a",
   "metadata": {},
   "source": [
    "Jeg vil ikke skrive alt det der hver gang. Derfor lager jeg en funksjon:"
   ]
  },
  {
   "cell_type": "code",
   "execution_count": null,
   "id": "6d761e6e",
   "metadata": {},
   "outputs": [],
   "source": [
    "def buff(gdf, avstand, resolution=50, copy=True, **qwargs): # **qwargs betyr at man tillater flere parametre. I dette tilfellet alle parametrene som godtas av geopandas' buffer()\n",
    "    \n",
    "    if copy:\n",
    "        gdf2 = gdf.copy()\n",
    "    else:\n",
    "        gdf2 = gdf\n",
    "    \n",
    "    gdf2[\"geometry\"] = gdf2.buffer(avstand, resolution=resolution, **qwargs)\n",
    "    gdf2[\"geometry\"] = gdf2.make_valid()\n",
    "    \n",
    "    return gdf2"
   ]
  },
  {
   "cell_type": "code",
   "execution_count": null,
   "id": "42ef4ef4",
   "metadata": {},
   "outputs": [],
   "source": [
    "veger_bufret = buff(veger, 500)\n",
    "veger_bufret"
   ]
  },
  {
   "attachments": {},
   "cell_type": "markdown",
   "id": "31d0def1",
   "metadata": {},
   "source": [
    "OBS: å ta kopier gjør at man bruker mer minne. Hvis man ikke trenger å beholde det ikke-bufrede objektet, kan det være greit å ikke ta kopi."
   ]
  },
  {
   "cell_type": "markdown",
   "id": "704eeb3e",
   "metadata": {},
   "source": [
    "## Spatial join"
   ]
  },
  {
   "cell_type": "markdown",
   "id": "de2824ad",
   "metadata": {},
   "source": [
    "La oss si vi har punktdata på skoler i Norge uten info om kommunenummer:"
   ]
  },
  {
   "cell_type": "code",
   "execution_count": null,
   "id": "ab94df51",
   "metadata": {},
   "outputs": [],
   "source": [
    "skoler = gpd.read_file(r\"C:\\python\\Befolkning_0000_Norge_25833_Grunnskoler_FGDB.gdb\", layer=\"Grunnskole\")\n",
    "skoler = skoler[[\"skolenavn\", \"geometry\"]]\n",
    "skoler"
   ]
  },
  {
   "attachments": {},
   "cell_type": "markdown",
   "id": "6f84eeac",
   "metadata": {},
   "source": [
    "Da kan vi gjøre en romlig kobling med kommunedata med geopandas.sjoin.\n",
    "\n",
    "Denne fungerer på samme måte som pandas.merge, bare at man kobler basert på geometrien."
   ]
  },
  {
   "cell_type": "code",
   "execution_count": null,
   "id": "b7325253",
   "metadata": {},
   "outputs": [],
   "source": [
    "# her returneres skolepunktene med info om kommunenummer\n",
    "skoler.sjoin(kommuner)"
   ]
  },
  {
   "attachments": {},
   "cell_type": "markdown",
   "id": "0a94da3c",
   "metadata": {},
   "source": [
    "Resultatene har én rad mindre enn skoledataene hadde i utgangspunktet. Det er fordi én skole ikke overlappet med noen kommuner. Denne ble fjernet fordi sjoin gjør en inner join som default. \n",
    "\n",
    "Man kan endre til left join for å få med skolen som ikke overlapper med kommunene.\n",
    "\n",
    "La oss se hvor denne ene skolen ligger:"
   ]
  },
  {
   "cell_type": "code",
   "execution_count": null,
   "id": "855739e6",
   "metadata": {},
   "outputs": [],
   "source": [
    "(skoler\n",
    " .sjoin(kommuner, how=\"left\")\n",
    " .query(\"KOMMUNENR.isna()\") # velg ut bare skolen som mangler kommunenummer for å kartlegge\n",
    " .explore()\n",
    ")"
   ]
  },
  {
   "cell_type": "markdown",
   "id": "a3b13cb2",
   "metadata": {},
   "source": [
    "Med motsatt rekkefølge i sjoin, får man kommunene som inneholder en skole:"
   ]
  },
  {
   "cell_type": "code",
   "execution_count": null,
   "id": "91c0da29",
   "metadata": {},
   "outputs": [],
   "source": [
    "kommuner.sjoin(skoler).plot()"
   ]
  },
  {
   "attachments": {},
   "cell_type": "markdown",
   "id": "d664b0eb",
   "metadata": {},
   "source": [
    "Man får én rad per skole i kommunen. \n",
    "\n",
    "For Kongsvinger kommune, får man 11 rader med samme geometri (kommuneflaten), men ulike skolenavn:"
   ]
  },
  {
   "cell_type": "code",
   "execution_count": null,
   "id": "9d7b5c7e",
   "metadata": {},
   "outputs": [],
   "source": [
    "kommuner.sjoin(skoler).loc[kommuner.KOMMUNENR==\"3401\"].drop(\"index_right\", axis=1)"
   ]
  },
  {
   "cell_type": "markdown",
   "id": "6fa10da6",
   "metadata": {},
   "source": [
    "Det er flest skoler i Oslo:"
   ]
  },
  {
   "cell_type": "code",
   "execution_count": null,
   "id": "6fa163f0",
   "metadata": {},
   "outputs": [],
   "source": [
    "# tell opp antall rader av hvert kommunenummer, det vil si antall skoler per kommune\n",
    "kommuner.sjoin(skoler).KOMMUNENR.value_counts()"
   ]
  },
  {
   "attachments": {},
   "cell_type": "markdown",
   "id": "06dbb9cb",
   "metadata": {},
   "source": [
    "sjoin_nearest kan brukes for å finne avstand til nærmeste skole, og samtidig få kolonneinfoen, i dette tilfellet navnet på nærmeste skole:"
   ]
  },
  {
   "cell_type": "code",
   "execution_count": null,
   "id": "ca207958",
   "metadata": {},
   "outputs": [],
   "source": [
    "tilfeldige_punkter = veger.sample(1000)\n",
    "tilfeldige_punkter[\"geometry\"] = tilfeldige_punkter.centroid\n",
    "\n",
    "joinet = tilfeldige_punkter.sjoin_nearest(skoler, \n",
    "                                          distance_col = \"meter_til_skole\").drop(\"index_right\", axis=1)\n",
    "\n",
    "joinet.plot(\"meter_til_skole\", scheme=\"Quantiles\", legend=True)\n",
    "joinet.sample(3)"
   ]
  },
  {
   "attachments": {},
   "cell_type": "markdown",
   "id": "b5c17115",
   "metadata": {},
   "source": [
    "Hvis man vil lage en kategorisk kolonne med ja/nei hvis mindre/mer enn 500 meter til nærmeste skole:"
   ]
  },
  {
   "cell_type": "code",
   "execution_count": null,
   "id": "5bfbc506",
   "metadata": {},
   "outputs": [],
   "source": [
    "import numpy as np # pakken pandas er basert på"
   ]
  },
  {
   "cell_type": "code",
   "execution_count": null,
   "id": "7538bd09",
   "metadata": {},
   "outputs": [],
   "source": [
    "joinet[\"skole_innen_500m\"] = np.where(joinet[\"meter_til_skole\"] < 500, \n",
    "                                     \"ja\",\n",
    "                                     \"nei\")\n",
    "\n",
    "joinet.plot(\"skole_innen_500m\", cmap=\"plasma\", legend=True)"
   ]
  },
  {
   "attachments": {},
   "cell_type": "markdown",
   "id": "6aa16e38",
   "metadata": {},
   "source": [
    "## Overlay\n",
    "\n",
    "Geopandas har en overlay-funksjon som gjør alt.\n",
    "\n",
    "Geometrien repareres også automatisk.\n",
    "\n",
    "Man spesifiserer hvilken overlay man vil ha med 'how'-argumentet. Mer detaljer om det i notebook-en om vernede områder.\n",
    "\n",
    "Velger noen tilfeldige punkter og bufrer dem 500 meter:"
   ]
  },
  {
   "cell_type": "code",
   "execution_count": null,
   "id": "bf0d8c30",
   "metadata": {},
   "outputs": [],
   "source": [
    "bufrede_punkter = tilfeldige_punkter.sample(100)\n",
    "bufrede_punkter[\"geometry\"] = bufrede_punkter.buffer(500)\n",
    "bufrede_punkter.plot()"
   ]
  },
  {
   "attachments": {},
   "cell_type": "markdown",
   "id": "a1f2b6f9",
   "metadata": {},
   "source": [
    "Her er de fem overlay-mulighetene:"
   ]
  },
  {
   "cell_type": "code",
   "execution_count": null,
   "id": "0d7e87ec",
   "metadata": {},
   "outputs": [],
   "source": [
    "overlay1 = veger.overlay(bufrede_punkter, how = \"intersection\", keep_geom_type=True)\n",
    "overlay1.plot()\n",
    "\n",
    "overlay2 = veger.overlay(bufrede_punkter, how =  \"difference\", keep_geom_type=True) # = erase i ArcGIS\n",
    "overlay2.plot()\n",
    "\n",
    "overlay3 = veger.overlay(bufrede_punkter, how =  \"symmetric_difference\", keep_geom_type=True) # returnerer det som ikke overlapper i begge dataene\n",
    "overlay3.plot()\n",
    "\n",
    "overlay4 = veger.overlay(bufrede_punkter, how =  \"identity\", keep_geom_type=True)\n",
    "overlay4.plot()\n",
    "\n",
    "overlay5 = veger.overlay(bufrede_punkter, how =  \"union\", keep_geom_type=True)\n",
    "overlay5.plot()"
   ]
  },
  {
   "attachments": {},
   "cell_type": "markdown",
   "id": "9a327758",
   "metadata": {},
   "source": [
    "## Dissolve og til singlepart <a class=\"anchor\" id=\"first-bullet\"></a>"
   ]
  },
  {
   "cell_type": "markdown",
   "id": "0675c523",
   "metadata": {},
   "source": [
    "Dette samler alle radene:"
   ]
  },
  {
   "cell_type": "code",
   "execution_count": null,
   "id": "555bea8b",
   "metadata": {},
   "outputs": [],
   "source": [
    "dissolvet = bufrede_punkter.dissolve()\n",
    "dissolvet"
   ]
  },
  {
   "cell_type": "markdown",
   "id": "a13f9583",
   "metadata": {},
   "source": [
    "Dette deler opp ikke-overlappende, altså fra multipolygon til polygon (multipart to singlepart):"
   ]
  },
  {
   "cell_type": "code",
   "execution_count": null,
   "id": "aca95c28",
   "metadata": {},
   "outputs": [],
   "source": [
    "singlepart = dissolvet.explode()\n",
    "\n",
    "singlepart.explore()"
   ]
  },
  {
   "attachments": {},
   "cell_type": "markdown",
   "id": "52df2228",
   "metadata": {},
   "source": [
    "Man kan dissolve 'by' kolonner og velge aggregeringsmetode (default er 'first', som er uheldig):"
   ]
  },
  {
   "cell_type": "code",
   "execution_count": null,
   "id": "eb3b8f05",
   "metadata": {},
   "outputs": [],
   "source": [
    "dissolvet = bufrede_punkter.dissolve(\n",
    "    by = [\"tunnel\", \"bridge\"],\n",
    "    aggfunc = \"sum\" # first er default aggregeringsfunksjon\n",
    "    ) \n",
    "dissolvet"
   ]
  },
  {
   "attachments": {},
   "cell_type": "markdown",
   "id": "f010f568",
   "metadata": {},
   "source": [
    "Dette er det samme som pandas groupby + agg, bare at man da ikke får geometrien. \n",
    "\n",
    "Dette er som summary statistics i ArcGIS."
   ]
  },
  {
   "cell_type": "code",
   "execution_count": null,
   "id": "362318fa",
   "metadata": {},
   "outputs": [],
   "source": [
    "oppsummert_uten_geometri = (bufrede_punkter\n",
    "                            .groupby([\"tunnel\", \"bridge\"])\n",
    "                            .agg(\"sum\")\n",
    "            )\n",
    "oppsummert_uten_geometri"
   ]
  },
  {
   "cell_type": "markdown",
   "id": "15ccca0a",
   "metadata": {},
   "source": [
    "#### Kort om index og feilmeldingene det fører til"
   ]
  },
  {
   "attachments": {},
   "cell_type": "markdown",
   "id": "2eabc832",
   "metadata": {},
   "source": [
    "Index er et viktig konsept i pandas, men også i Python generelt.\n",
    "\n",
    "Index-en starter på 0"
   ]
  },
  {
   "cell_type": "code",
   "execution_count": null,
   "id": "29271031",
   "metadata": {},
   "outputs": [],
   "source": [
    "liste = [1,2,3]\n",
    "liste[0]"
   ]
  },
  {
   "attachments": {},
   "cell_type": "markdown",
   "id": "8e6f587b",
   "metadata": {},
   "source": [
    "I pandas har man denne numeriske index-en som standard, men man kan også velge hvilke kolonner som skal være index.\n",
    "\n",
    "Det gjør noen ting enklere å jobbe med (mer om der her: https://www.youtube.com/watch?v=OYZNk7Z9s6I),\n",
    "\n",
    "men ofte kan index-en skaper problemer og unødvendige feilmeidldinger \n",
    "\n",
    "For eksempel når man dissolver 'by' eller bruker pandas.groupby, blir kolonnene man grupperer etter til index for dataframen.\n",
    "\n",
    "Nå som vi dissolvet 'by' tunnel og bridge, blir disse to til en MultiIndex:"
   ]
  },
  {
   "cell_type": "code",
   "execution_count": null,
   "id": "042b3601",
   "metadata": {},
   "outputs": [],
   "source": [
    "dissolvet.index"
   ]
  },
  {
   "cell_type": "markdown",
   "id": "5470a34a",
   "metadata": {},
   "source": [
    "Og tunnel og brigde er ikke lenger kolonner:"
   ]
  },
  {
   "cell_type": "code",
   "execution_count": null,
   "id": "c9ca3f56",
   "metadata": {},
   "outputs": [],
   "source": [
    "dissolvet.columns"
   ]
  },
  {
   "attachments": {},
   "cell_type": "markdown",
   "id": "a0ce61ba",
   "metadata": {},
   "source": [
    "Vi kan få dem tilbake som kolonner med reset_index:"
   ]
  },
  {
   "cell_type": "code",
   "execution_count": null,
   "id": "8eee9e82",
   "metadata": {},
   "outputs": [],
   "source": [
    "dissolvet = dissolvet.reset_index()\n",
    "dissolvet"
   ]
  },
  {
   "cell_type": "markdown",
   "id": "c2761792",
   "metadata": {},
   "source": [
    "Hvis vi gjør det igjen nå som index er nullstilt, får vi en kolonne kalt \"index\":"
   ]
  },
  {
   "cell_type": "code",
   "execution_count": null,
   "id": "cca07d28",
   "metadata": {},
   "outputs": [],
   "source": [
    "dissolvet = dissolvet.reset_index()\n",
    "dissolvet"
   ]
  },
  {
   "cell_type": "markdown",
   "id": "3b1f30d9",
   "metadata": {},
   "source": [
    "Og hvis enda en gang, får vi en index-kolonne for index-nivå 0:"
   ]
  },
  {
   "cell_type": "code",
   "execution_count": null,
   "id": "6957cb4e",
   "metadata": {},
   "outputs": [],
   "source": [
    "dissolvet = dissolvet.reset_index()\n",
    "dissolvet"
   ]
  },
  {
   "attachments": {},
   "cell_type": "markdown",
   "id": "87184519",
   "metadata": {},
   "source": [
    "Og hvis enda en reset_index, gir pandas opp fordi kolonnen \"level_0\" allerede finnes..."
   ]
  },
  {
   "cell_type": "code",
   "execution_count": null,
   "id": "00b839be",
   "metadata": {},
   "outputs": [],
   "source": [
    "dissolvet = dissolvet.reset_index()\n",
    "dissolvet"
   ]
  },
  {
   "cell_type": "markdown",
   "id": "f72aa5dd",
   "metadata": {},
   "source": [
    "Vi kan fortsatt resette index hvis vi dropper å få index-en som kolonne:"
   ]
  },
  {
   "cell_type": "code",
   "execution_count": null,
   "id": "b03a3576",
   "metadata": {},
   "outputs": [],
   "source": [
    "dissolvet = dissolvet.reset_index(drop=True)\n",
    "dissolvet"
   ]
  },
  {
   "attachments": {},
   "cell_type": "markdown",
   "id": "75d73949",
   "metadata": {},
   "source": [
    "Men hvis vi hadde satt drop=True til å begynne med, altså rett etter dissolve eller groupby().agg(), ville vi mistet tunnel- og bridge-kolonnene for godt. \n",
    "\n",
    "Før vi går videre, må alle disse index-kolonnene vekk:"
   ]
  },
  {
   "cell_type": "code",
   "execution_count": null,
   "id": "36898d4a",
   "metadata": {},
   "outputs": [],
   "source": [
    "dissolvet = dissolvet.loc[:, ~dissolvet.columns.str.contains(\"index|level_\")]\n",
    "dissolvet"
   ]
  },
  {
   "attachments": {},
   "cell_type": "markdown",
   "id": "d89bd4d8",
   "metadata": {},
   "source": [
    "Index skaper også problemer i spatial join, siden denne, tåpelig nok, returnerer en kolonne kalt \"index_right\":"
   ]
  },
  {
   "cell_type": "code",
   "execution_count": null,
   "id": "9941f703",
   "metadata": {},
   "outputs": [],
   "source": [
    "dissolvet = dissolvet.sjoin(bufrede_punkter[[\"geometry\"]])\n",
    "dissolvet"
   ]
  },
  {
   "attachments": {},
   "cell_type": "markdown",
   "id": "15d1fb4d",
   "metadata": {},
   "source": [
    "Som gir feilmelding neste gang fordi \"index_right\" ikke kan være kolonnenavn i en join:"
   ]
  },
  {
   "cell_type": "code",
   "execution_count": null,
   "id": "72d20bf0",
   "metadata": {},
   "outputs": [],
   "source": [
    "dissolvet = dissolvet.sjoin(bufrede_punkter[[\"geometry\"]])\n",
    "dissolvet"
   ]
  },
  {
   "attachments": {},
   "cell_type": "markdown",
   "id": "e4877332",
   "metadata": {},
   "source": [
    "### Heldigvis kan man unngå alle disse problemene ved å lage sine egne funksjoner:"
   ]
  },
  {
   "cell_type": "code",
   "execution_count": null,
   "id": "a02ed446",
   "metadata": {},
   "outputs": [],
   "source": [
    "def diss(gdf, **qwargs):\n",
    "    \n",
    "    dissolvet = gdf.dissolve(**qwargs)\n",
    "    \n",
    "    dissolvet = dissolvet.reset_index()\n",
    "    \n",
    "    # kolonner fra tuple til string\n",
    "    dissolvet.columns = [\"_\".join(kolonne).strip(\"_\") if isinstance(kolonne, tuple) else kolonne for kolonne in dissolvet.columns]\n",
    "\n",
    "    # fjern index-kolonner\n",
    "    dissolvet = dissolvet.loc[:, ~dissolvet.columns.str.contains('index|level_')]\n",
    "\n",
    "    return dissolvet\n",
    "\n",
    "\n",
    "def min_sjoin(gdf_left, gdf_right, **qwargs):\n",
    "    \n",
    "    # fjern index-kolonner\n",
    "    left_kopi = gdf_left.loc[:, ~gdf_left.columns.str.contains('index|level_')]\n",
    "    right_kopi = gdf_right.loc[:, ~gdf_right.columns.str.contains('index|level_')]\n",
    "    \n",
    "    joinet = left_kopi.sjoin(right_kopi, **qwargs)\n",
    "\n",
    "    # fjern index-kolonner igjen\n",
    "    joinet = joinet.loc[:, ~joinet.columns.str.contains('index|level_')]\n",
    "    \n",
    "    return joinet"
   ]
  },
  {
   "attachments": {},
   "cell_type": "markdown",
   "id": "3d83a7d1",
   "metadata": {},
   "source": [
    "Nå funker ting som det skal uten å måtte skrive/kopiere så mye tekst hver gang:"
   ]
  },
  {
   "cell_type": "code",
   "execution_count": null,
   "id": "d54165c5",
   "metadata": {},
   "outputs": [],
   "source": [
    "dissolvet = diss(bufrede_punkter[[\"tunnel\", \"bridge\", \"traffic_per_day\", \"speed_limit\", \"geometry\"]],\n",
    "                 \n",
    "    by = [\"tunnel\", \"bridge\"],\n",
    "    \n",
    "    aggfunc = (\"sum\", \"mean\"),\n",
    "    \n",
    "    )\n",
    "\n",
    "joinet = min_sjoin(dissolvet, bufrede_punkter[[\"geometry\"]])\n",
    "joinet"
   ]
  },
  {
   "attachments": {},
   "cell_type": "markdown",
   "id": "e182014f",
   "metadata": {},
   "source": [
    "## buffer, dissolve og til singlepart (explode)\n",
    "\n",
    "For å slippe å styre med index, reparering av geometri og lignende hver gang, kan det være greit med en funksjon som gjør akkurat det man vil.\n",
    "\n",
    "Kaller den buffdissexp for å gjøre det tydelig og eksplisitt hva den gjør (buffer, dissolve og explode):"
   ]
  },
  {
   "cell_type": "code",
   "execution_count": null,
   "id": "67e2cccf",
   "metadata": {},
   "outputs": [],
   "source": [
    "def buffdissexp(gdf, avstand, resolution=50, **qwargs):\n",
    "\n",
    "    kopi = gdf.copy()\n",
    "        \n",
    "    kopi[\"geometry\"] = kopi.buffer(avstand, resolution=resolution).make_valid() #reparerer geometrien\n",
    "\n",
    "    dissolvet = kopi.dissolve(**qwargs).reset_index()\n",
    "    dissolvet = dissolvet.loc[:, ~dissolvet.columns.str.contains('index|level_')]\n",
    "\n",
    "    dissolvet.columns = [\"_\".join(kolonne).strip(\"_\") if isinstance(kolonne, tuple) else kolonne for kolonne in dissolvet.columns]\n",
    "\n",
    "    singlepart = dissolvet.explode(ignore_index=True)\n",
    "\n",
    "    return singlepart"
   ]
  },
  {
   "attachments": {},
   "cell_type": "markdown",
   "id": "1a063117",
   "metadata": {},
   "source": [
    "Og så slenger jeg på en funksjon som tetter hull i polygoner:"
   ]
  },
  {
   "cell_type": "code",
   "execution_count": null,
   "id": "9131f966",
   "metadata": {},
   "outputs": [],
   "source": [
    "def tett_hull(gdf):\n",
    "\n",
    "    # shapely er pakken som håndterer GIS-biten i geopandas. Det vil si, shapely er mellomleddet mellom geopandas og GEOS (GIS-algoritmene som brukes i QGIS, POSTGIS, sf i R osv.)\n",
    "    from shapely import polygons, get_exterior_ring, get_parts\n",
    "    from shapely.ops import unary_union\n",
    "    \n",
    "    def tett_radvis(x):\n",
    "        hull_tettet = polygons(get_exterior_ring(get_parts(x)))\n",
    "        return unary_union(hull_tettet)\n",
    "    \n",
    "    kopi = gdf.copy(deep=True)\n",
    "    kopi[\"geometry\"] = kopi.geometry.map(tett_radvis)\n",
    "\n",
    "    return kopi"
   ]
  },
  {
   "attachments": {},
   "cell_type": "markdown",
   "id": "f3c4a229",
   "metadata": {},
   "source": [
    "Nå kan man enklere gjenta bufring, dissolving og singleparting. Og hvis man vil endre noe på koden, treger man bare å gjøre det ett sted (i funksjonene man lager)."
   ]
  },
  {
   "cell_type": "code",
   "execution_count": null,
   "id": "5470dfd5",
   "metadata": {},
   "outputs": [],
   "source": [
    "buffutinn = buff(bufrede_punkter, 25)\n",
    "buffutinn = buff(bufrede_punkter, 25)\n",
    "buffutinn = buff(bufrede_punkter, 25)\n",
    "buffutinn = buff(bufrede_punkter, 25)\n",
    "buffutinn = buffdissexp(bufrede_punkter, 12.5)\n",
    "buffutinn = buffdissexp(bufrede_punkter, -12.5)\n",
    "buffutinn = tett_hull(bufrede_punkter)\n",
    "buffutinn = buffdissexp(bufrede_punkter, 1)\n",
    "buffutinn = buffdissexp(bufrede_punkter, -1)"
   ]
  },
  {
   "cell_type": "markdown",
   "id": "d3c71e32",
   "metadata": {},
   "source": [
    "## Mer om tett_hull()\n",
    "\n",
    "En mer fleksibel variant ligger her:"
   ]
  },
  {
   "cell_type": "code",
   "execution_count": null,
   "id": "a70825c1",
   "metadata": {},
   "outputs": [],
   "source": [
    "import geopandas as gpd\n",
    "import sys\n",
    "sys.path.append(r\"C:\\Users\\ort\\OneDrive - Statistisk sentralbyrå\\Dokumenter\\GitHub\")\n",
    "\n",
    "import geopandasgreier as gg # https://github.com/mortewle/geopandasgreier\n",
    "gg.tett_hull"
   ]
  },
  {
   "attachments": {},
   "cell_type": "markdown",
   "id": "66e38da2",
   "metadata": {},
   "source": [
    "Velger først ut nabokommunene til Hol og Hemsedal, som inneholder to hull (Hol og Hemsedal)."
   ]
  },
  {
   "cell_type": "code",
   "execution_count": null,
   "id": "382eb3e8",
   "metadata": {},
   "outputs": [],
   "source": [
    "import kommfylk # https://github.com/statisticsnorway/kommfylk/blob/main/eksempler/bruk.ipynb\n",
    "naboer_hol = kommfylk.nabokommuner(\"3044\", aar=2022)\n",
    "naboer_hemsedal = kommfylk.nabokommuner(\"3042\", aar=2022)\n",
    "naboer_hol_og_hemsedal = kommuner[kommuner.KOMMUNENR.isin(naboer_hol+naboer_hemsedal)].dissolve()\n",
    "naboer_hol_og_hemsedal.plot()"
   ]
  },
  {
   "attachments": {},
   "cell_type": "markdown",
   "id": "36de8b21",
   "metadata": {},
   "source": [
    "Her kan man tette hull under en viss størrelse:"
   ]
  },
  {
   "cell_type": "code",
   "execution_count": null,
   "id": "86fdde7f",
   "metadata": {},
   "outputs": [],
   "source": [
    "gg.tett_hull(naboer_hol_og_hemsedal, max_km2 = 1000).plot()"
   ]
  },
  {
   "attachments": {},
   "cell_type": "markdown",
   "id": "287dedbf",
   "metadata": {},
   "source": [
    "Eller alle hull:"
   ]
  },
  {
   "cell_type": "code",
   "execution_count": null,
   "id": "6654d08d",
   "metadata": {},
   "outputs": [],
   "source": [
    "gg.tett_hull(naboer_hol_og_hemsedal).plot()"
   ]
  },
  {
   "attachments": {},
   "cell_type": "markdown",
   "id": "92c8881d",
   "metadata": {},
   "source": [
    "## Mer om dissolve"
   ]
  },
  {
   "cell_type": "markdown",
   "id": "63f30f65",
   "metadata": {},
   "source": [
    "Hvis vi vil ha ulike og/eller flere aggregeringsfunksjoner, kan vi gjøre sånn:"
   ]
  },
  {
   "cell_type": "code",
   "execution_count": null,
   "id": "8dab0f88",
   "metadata": {},
   "outputs": [],
   "source": [
    "dissolvet = bufrede_punkter.dissolve(\n",
    "    \n",
    "    by = [\"bridge\", \"tunnel\"], \n",
    "    \n",
    "    # aggregerings i ordbok (dictionary)\n",
    "    aggfunc = {\"municipality\": \"first\",\n",
    "               \"roadtype\": \"count\", \n",
    "               \"speed_limit\": [\"sum\", \"mean\"],\n",
    "               \"traffic_per_day\": [\"median\", np.std],\n",
    "              }\n",
    ")\n",
    "\n",
    "dissolvet = dissolvet.reset_index()\n",
    "\n",
    "dissolvet"
   ]
  },
  {
   "attachments": {},
   "cell_type": "markdown",
   "id": "6c5be5c6",
   "metadata": {},
   "source": [
    "Man kan også bruke egendefinerte aggregeringsfunksjoner.\n",
    "\n",
    "Enten noe man definerer som en vanlig funksjon, eller en anonym funksjon (lambda) som kan plasseres på selve linja. I dette eksemplet er de to funksjonene like."
   ]
  },
  {
   "cell_type": "code",
   "execution_count": null,
   "id": "ef285e21",
   "metadata": {},
   "outputs": [],
   "source": [
    "def min_aggfunc(x):\n",
    "    return x.size - x.count()\n",
    "    \n",
    "dissolvet = bufrede_punkter.dissolve(\n",
    "    \n",
    "    by = [\"bridge\", \"tunnel\"], \n",
    "    \n",
    "    # aggregerings i ordbok (dictionary)\n",
    "    aggfunc = {\"municipality\": \"first\",\n",
    "               \"roadtype\": [\"first\", \"count\"], \n",
    "               \"speed_limit\": min_aggfunc, \n",
    "               \"traffic_per_day\": lambda x: x.size - x.count(), \n",
    "              }\n",
    ")\n",
    "\n",
    "dissolvet = dissolvet.reset_index()\n",
    "\n",
    "dissolvet"
   ]
  },
  {
   "cell_type": "markdown",
   "id": "261ccd88",
   "metadata": {},
   "source": [
    "Når man dissolver 'by' flere kolonner, får man dumme kolonnenavn i tuple-format, f.eks. (municipality, first):"
   ]
  },
  {
   "cell_type": "code",
   "execution_count": null,
   "id": "8d6ddb1b",
   "metadata": {},
   "outputs": [],
   "source": [
    "dissolvet"
   ]
  },
  {
   "attachments": {},
   "cell_type": "markdown",
   "id": "7f397b74",
   "metadata": {},
   "source": [
    "Jeg vil ha kolonnene som tekst med underscore, altså municipality_first.\n",
    "\n",
    "Man kan endre dette med for-loop:"
   ]
  },
  {
   "cell_type": "code",
   "execution_count": null,
   "id": "a571877f",
   "metadata": {},
   "outputs": [],
   "source": [
    "for kolonne in dissolvet.columns:\n",
    "    if isinstance(kolonne, tuple):\n",
    "        dissolvet = dissolvet.rename(columns = {kolonne: \"_\".join(kolonne).strip(\"_\")})\n",
    "\n",
    "dissolvet"
   ]
  },
  {
   "attachments": {},
   "cell_type": "markdown",
   "id": "97d2f7e8",
   "metadata": {},
   "source": [
    "Eller med list comprehension (raskere enn for-loop):"
   ]
  },
  {
   "cell_type": "code",
   "execution_count": null,
   "id": "eb0b298f",
   "metadata": {},
   "outputs": [],
   "source": [
    "dissolvet.columns = [\"_\".join(kolonne).strip(\"_\") if isinstance(kolonne, tuple) else kolonne for kolonne in dissolvet.columns]\n",
    "dissolvet"
   ]
  },
  {
   "cell_type": "markdown",
   "id": "5f890253",
   "metadata": {},
   "source": [
    "Som er det som gjøres i diss-funksjonen ovenfor:"
   ]
  },
  {
   "cell_type": "code",
   "execution_count": null,
   "id": "09f5ca34",
   "metadata": {},
   "outputs": [],
   "source": [
    "diss(bufrede_punkter,\n",
    "     \n",
    "     by = [\"bridge\", \"tunnel\"],\n",
    "     \n",
    "     aggfunc = {\"municipality\": \"first\", \n",
    "                \"speed_limit\": [\"sum\",\"mean\"],\n",
    "                \"traffic_per_day\": [\"sum\",\"mean\"]\n",
    "                }\n",
    ")"
   ]
  },
  {
   "attachments": {},
   "cell_type": "markdown",
   "id": "88809cdf",
   "metadata": {},
   "source": [
    "Det som skjer:"
   ]
  },
  {
   "cell_type": "code",
   "execution_count": null,
   "id": "b88642ea",
   "metadata": {},
   "outputs": [],
   "source": [
    "en_tuple = (\"hei\", \"du\", \"der\", \"\")\n",
    "en_tuple"
   ]
  },
  {
   "cell_type": "code",
   "execution_count": null,
   "id": "1de5db0d",
   "metadata": {},
   "outputs": [],
   "source": [
    "tuple_samlet_som_string = \"_\".join(en_tuple)\n",
    "tuple_samlet_som_string"
   ]
  },
  {
   "cell_type": "code",
   "execution_count": null,
   "id": "feac85a4",
   "metadata": {},
   "outputs": [],
   "source": [
    "uten_underscore_ytterst = tuple_samlet_som_string.strip(\"_\")\n",
    "uten_underscore_ytterst"
   ]
  },
  {
   "attachments": {},
   "cell_type": "markdown",
   "id": "efef8c93",
   "metadata": {},
   "source": [
    "## Bruk av ordbok"
   ]
  },
  {
   "attachments": {},
   "cell_type": "markdown",
   "id": "08ae2b8a",
   "metadata": {},
   "source": [
    "Ordbøker kan iblant være veldig nyttig. \n",
    "\n",
    "For eksempel hvis man har kommunenummer og vil ha navn. Da kan man lage seg en ordbok med navn og nummer."
   ]
  },
  {
   "cell_type": "code",
   "execution_count": null,
   "id": "dd219caa",
   "metadata": {},
   "outputs": [],
   "source": [
    "from kommfylk import kommuner_fra_api\n",
    "\n",
    "komm = kommuner_fra_api(2022, navn=True)\n",
    "komm"
   ]
  },
  {
   "cell_type": "code",
   "execution_count": null,
   "id": "bef8347c",
   "metadata": {},
   "outputs": [],
   "source": [
    "kommuneordbok = {kommnr: kommnavn for kommnr, kommnavn in zip(komm[\"KOMMUNENR\"], komm[\"NAVN\"])}\n",
    "\n",
    "veger[\"kommnavn\"] = veger[\"municipality\"].map(kommuneordbok)\n",
    "veger[\"kommnavn\"]"
   ]
  },
  {
   "attachments": {},
   "cell_type": "markdown",
   "id": "dfc64380",
   "metadata": {},
   "source": [
    "pandas map godtar ordbøker, pandas-kolonner og funksjoner (for funksjoner er det vanligere å bruke apply). Kjekt for radvis manipulering av data. \n",
    "\n",
    "Men map/apply er treigere enn å gjøre ting direkte på kolonnen, hvis det er mulig. Det gjelder enklere greier som dette:"
   ]
  },
  {
   "cell_type": "code",
   "execution_count": null,
   "id": "feb649f9",
   "metadata": {},
   "outputs": [],
   "source": [
    "# disse tre linjene gjør det samme\n",
    "veger[\"speed_limit_miles\"] = veger[\"speed_limit\"].map(lambda x: x*0.62) # treigt\n",
    "veger[\"speed_limit_miles\"] = veger[\"speed_limit\"].apply(lambda x: x*0.62) # treigt\n",
    "veger[\"speed_limit_miles\"] = veger[\"speed_limit\"] * 0.62 # raskt"
   ]
  },
  {
   "attachments": {},
   "cell_type": "markdown",
   "id": "a51ea40b",
   "metadata": {},
   "source": [
    "Annet eksempel: bruke ordbok for å lagre lister over kommunenes naboer, hvis man skulle trenge data for området rundt kommunen man beregner for."
   ]
  },
  {
   "cell_type": "code",
   "execution_count": null,
   "id": "63ecf76c",
   "metadata": {},
   "outputs": [],
   "source": [
    "# først klargjør kommunedata og vegdata\n",
    "kommuner = gpd.read_file(r\"C:\\Users\\ort\\OneDrive - Statistisk sentralbyrå\\data\\Basisdata_0000_Norge_25833_Kommuner_FGDB.gdb\", \n",
    "                         layer=\"kommune\")\n",
    "kommuner[\"KOMMUNENR\"] = kommuner.kommunenummer\n",
    "kommuner = kommuner.sort_values(\"KOMMUNENR\")\n",
    "veger[\"KOMMUNENR\"] = veger.municipality"
   ]
  },
  {
   "cell_type": "code",
   "execution_count": null,
   "id": "6682f822",
   "metadata": {},
   "outputs": [],
   "source": [
    "# lager en tom ordbok\n",
    "naboordbok = {}\n",
    "\n",
    "# looper for hver kommune\n",
    "for kommune in kommuner.KOMMUNENR.unique():\n",
    "\n",
    "    #spatial join mellom kommunen og alle andre andre kommuner\n",
    "    kommunen = kommuner.loc[kommuner.KOMMUNENR == kommune, [\"geometry\"]]\n",
    "    andre_kommuner = kommuner.loc[kommuner.KOMMUNENR != kommune, [\"KOMMUNENR\", \"geometry\"]]\n",
    "    joinet = kommunen.sjoin(andre_kommuner)\n",
    "\n",
    "    # gjør liste over unike kommunenumre til value og kommunen til key i naboordboka\n",
    "    naboer = list(joinet.KOMMUNENR.unique())\n",
    "    naboordbok[kommune] = naboer\n",
    "\n",
    "# nå er kommunene keys, og naboene values. Så dette gir en liste over oslos nabokommuner:\n",
    "print(\"Oslos nabokommuner:\")\n",
    "naboordbok[\"0301\"]"
   ]
  },
  {
   "attachments": {},
   "cell_type": "markdown",
   "id": "a99149a5",
   "metadata": {},
   "source": [
    "Hvis man trenger data for nabokommuner, kan man loope via naboordboka:"
   ]
  },
  {
   "cell_type": "code",
   "execution_count": null,
   "id": "066f7640",
   "metadata": {},
   "outputs": [],
   "source": [
    "for kommnr, naboer in naboordbok.items(): # items() er en metode for dictionary-typen, som gir oss nøkler og verdier samtidig.\n",
    "    \n",
    "    relevante_veger = veger.loc[(veger[\"KOMMUNENR\"]==kommnr) | (veger[\"KOMMUNENR\"].isin(naboer))]"
   ]
  },
  {
   "attachments": {},
   "cell_type": "markdown",
   "id": "a499d64a",
   "metadata": {},
   "source": [
    "## Enda litt mer om dissolve (dictionary comprehension)\n",
    "Hvis man har veldig mange kolonner og vil ha 'sum' hvis numerisk og 'first' ellers:"
   ]
  },
  {
   "cell_type": "code",
   "execution_count": null,
   "id": "9c07c1cf",
   "metadata": {},
   "outputs": [],
   "source": [
    "# dictionary comprehension hvor kolonnenavnet er key og aggregeringsfunksjonen er value\n",
    "aggfunc = {kolonne: \"sum\" \n",
    "           if ('float' or 'int') in str(bufrede_punkter[kolonne].dtype)\n",
    "           else 'first'\n",
    "           for kolonne in bufrede_punkter.columns}\n",
    "aggfunc"
   ]
  },
  {
   "attachments": {},
   "cell_type": "markdown",
   "id": "395fa2cb",
   "metadata": {},
   "source": [
    "Dictionary comprehension fungerer på samme måte som list comprehension, bare at man spesifiserer nøkkel: verdi (key: value), med kolon."
   ]
  },
  {
   "cell_type": "markdown",
   "id": "5afa6b53",
   "metadata": {},
   "source": [
    "Man må også fjerne kolonnene som dissolves 'by' og geometri-kolonnen fra ordboka:"
   ]
  },
  {
   "cell_type": "code",
   "execution_count": null,
   "id": "b3e1ceca",
   "metadata": {},
   "outputs": [],
   "source": [
    "by = [\"bridge\", \"tunnel\"]\n",
    "\n",
    "aggfunc = {kolonne: \"sum\" if ('float' or 'int') in str(bufrede_punkter[kolonne].dtype) else \"first\" for kolonne in bufrede_punkter.columns # denne linja er samme som alt over\n",
    "           if kolonne!=\"geometry\" and kolonne not in by}\n",
    "\n",
    "aggfunc"
   ]
  },
  {
   "attachments": {},
   "cell_type": "markdown",
   "id": "7b68b677",
   "metadata": {},
   "source": [
    "Så man man dissolve:"
   ]
  },
  {
   "cell_type": "code",
   "execution_count": null,
   "id": "328a9ac1",
   "metadata": {},
   "outputs": [],
   "source": [
    "dissolvet = diss(bufrede_punkter,\n",
    "\n",
    "                 by = by,\n",
    "                \n",
    "                 aggfunc = aggfunc\n",
    ")\n",
    "dissolvet"
   ]
  }
 ],
 "metadata": {
  "kernelspec": {
   "display_name": "geo_env311",
   "language": "python",
   "name": "python3"
  },
  "language_info": {
   "codemirror_mode": {
    "name": "ipython",
    "version": 3
   },
   "file_extension": ".py",
   "mimetype": "text/x-python",
   "name": "python",
   "nbconvert_exporter": "python",
   "pygments_lexer": "ipython3",
   "version": "3.11.0"
  },
  "vscode": {
   "interpreter": {
    "hash": "6fda90d33d8562a11ba27a339af32445995a4d0a960afc3d94f7e60b8e72ecde"
   }
  }
 },
 "nbformat": 4,
 "nbformat_minor": 5
}
